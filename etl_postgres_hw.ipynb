{
 "cells": [
  {
   "cell_type": "code",
   "execution_count": 1,
   "metadata": {},
   "outputs": [
    {
     "name": "stdout",
     "output_type": "stream",
     "text": [
      "[(1, 'Customer#000000001', 'IVhzIApeRb ot,c,E', 15, '25-989-741-2988', Decimal('711.56'), 'BUILDING  ', 'to the even, regular platelets. regular, ironic epitaphs nag e'), (2, 'Customer#000000002', 'XSTf4,NCwDVaWNe6tEgvwfmRchLXak', 13, '23-768-687-3665', Decimal('121.65'), 'AUTOMOBILE', 'l accounts. blithely ironic theodolites integrate boldly: caref'), (3, 'Customer#000000003', 'MG9kdTD2WBHm', 1, '11-719-748-3364', Decimal('7498.12'), 'AUTOMOBILE', ' deposits eat slyly ironic, even instructions. express foxes detect slyly. blithely even accounts abov'), (4, 'Customer#000000004', 'XxVSJsLAGtn', 4, '14-128-190-5944', Decimal('2866.83'), 'MACHINERY ', ' requests. final, regular ideas sleep final accou'), (5, 'Customer#000000005', 'KvpyuHCplrB84WgAiGV6sYpZq7Tj', 3, '13-750-942-6364', Decimal('794.47'), 'HOUSEHOLD ', 'n accounts will have to unwind. foxes cajole accor'), (6, 'Customer#000000006', 'sKZz0CsnMD7mp4Xd0YrBvx,LREYKUWAh yVn', 20, '30-114-968-4951', Decimal('7638.57'), 'AUTOMOBILE', 'tions. even deposits boost according to the slyly bold packages. final accounts cajole requests. furious'), (7, 'Customer#000000007', 'TcGe5gaZNgVePxU5kRrvXBfkasDTea', 18, '28-190-982-9759', Decimal('9561.95'), 'AUTOMOBILE', 'ainst the ironic, express theodolites. express, even pinto beans among the exp'), (8, 'Customer#000000008', 'I0B10bB0AymmC, 0PrRYBCP1yGJ8xcBPmWhl5', 17, '27-147-574-9335', Decimal('6819.74'), 'BUILDING  ', 'among the slyly regular theodolites kindle blithely courts. carefully even theodolites haggle slyly along the ide'), (9, 'Customer#000000009', 'xKiAFTjUsCuxfeleNqefumTrjS', 8, '18-338-906-3675', Decimal('8324.07'), 'FURNITURE ', 'r theodolites according to the requests wake thinly excuses: pending requests haggle furiousl'), (10, 'Customer#000000010', '6LrEaV6KR6PLVcgl2ArL Q3rqzLzcT1 v2', 5, '15-741-346-9870', Decimal('2753.54'), 'HOUSEHOLD ', 'es regular deposits haggle. fur')]\n"
     ]
    }
   ],
   "source": [
    "import psycopg2\n",
    "\n",
    "# Параметры соединения\n",
    "conn_string= \"host='localhost' port=54320 dbname='my_database' user='root' password='postgres'\" \n",
    "\n",
    "# Создаем соединение (оно поддерживает контекстный менеджер, рекомендую пользоваться им)\n",
    "# Создаем курсор - это специальный объект который делает запросы и получает их результаты\n",
    "with psycopg2.connect(conn_string) as conn, conn.cursor() as cursor:\n",
    "    query = 'select * from customer limit 10' # запрос к БД\n",
    "    cursor.execute(query) # выполнение запроса\n",
    "    result = cursor.fetchall() # получение результата\n",
    "    print(result)"
   ]
  },
  {
   "cell_type": "code",
   "execution_count": 2,
   "metadata": {},
   "outputs": [
    {
     "name": "stdout",
     "output_type": "stream",
     "text": [
      "sql запрос: \n",
      "    insert into customer (\n",
      "           c_custkey   \n",
      "         , c_name      \n",
      "         , c_address   \n",
      "         , c_nationkey \n",
      "         , c_phone     \n",
      "         , c_acctbal   \n",
      "         , c_mktsegment\n",
      "         , c_comment\n",
      "    )\n",
      "    values\n",
      "    ( -999, 'name', 'address', 0, 'phone', 0, 'mktsegment', 'comment')\n",
      "    \n",
      "результат вставки: [(-999, 'name', 'address', 0, 'phone          ', Decimal('0.00'), 'mktsegment', 'comment')]\n"
     ]
    }
   ],
   "source": [
    "import psycopg2\n",
    "\n",
    "conn_string= \"host='localhost' port=54320 dbname='my_database' user='root' password='postgres'\" \n",
    "\n",
    "with psycopg2.connect(conn_string) as conn, conn.cursor() as cursor:\n",
    "    row = (-999, 'name', 'address', 0, 'phone', 0, 'mktsegment', 'comment') # кортеж для вставки\n",
    "    insert = \"\"\"\n",
    "    insert into customer (\n",
    "           c_custkey   \n",
    "         , c_name      \n",
    "         , c_address   \n",
    "         , c_nationkey \n",
    "         , c_phone     \n",
    "         , c_acctbal   \n",
    "         , c_mktsegment\n",
    "         , c_comment\n",
    "    )\n",
    "    values\n",
    "    ({values})\n",
    "    \"\"\".format(\n",
    "    # биндим параметры в строку, чтобы избежать sql-иньекций (best practice)\n",
    "    values=cursor.mogrify(\"%s, %s, %s, %s, %s, %s, %s, %s\", row).decode('utf-8')\n",
    "    )\n",
    "    print('sql запрос:', insert)\n",
    "    cursor.execute(insert)\n",
    "    conn.commit() # комитим транзакцию\n",
    "    cursor.execute('select * from customer where c_custkey < 0')\n",
    "    result = cursor.fetchall()\n",
    "    print('результат вставки:', result)"
   ]
  },
  {
   "cell_type": "code",
   "execution_count": 3,
   "metadata": {},
   "outputs": [],
   "source": [
    "import psycopg2\n",
    "\n",
    "conn_string= \"host='localhost' port=54320 dbname='my_database' user='root' password='postgres'\" \n",
    "with psycopg2.connect(conn_string) as conn, conn.cursor() as cursor:\n",
    "    q = \"COPY customer TO STDOUT WITH DELIMITER ',' CSV HEADER;\"\n",
    "    with open('resultsfile.csv', 'w') as f:\n",
    "        cursor.copy_expert(q, f)"
   ]
  },
  {
   "cell_type": "code",
   "execution_count": 4,
   "metadata": {},
   "outputs": [],
   "source": [
    "import pandas as pd\n",
    "\n",
    "df = pd.read_csv('resultsfile.csv',sep=',')\n",
    "df['c_acctbal'] = df['c_acctbal']/(df['c_nationkey'] + 1.)\n",
    "df['c_name'] = df['c_name'].str.replace(\"Customer#\",'')\n",
    "df['c_comment'] = df['c_comment'].str.replace(',','--')\n",
    "\n",
    "df.to_csv('resultsfile.csv',sep=',',index=False)"
   ]
  },
  {
   "cell_type": "code",
   "execution_count": 5,
   "metadata": {},
   "outputs": [
    {
     "name": "stdout",
     "output_type": "stream",
     "text": [
      "[]\n"
     ]
    }
   ],
   "source": [
    "import psycopg2\n",
    "\n",
    "# Параметры соединения\n",
    "conn_string= \"host='localhost' port=5433 dbname='my_database' user='root' password='postgres'\" \n",
    "\n",
    "# Создаем соединение (оно поддерживает контекстный менеджер, рекомендую пользоваться им)\n",
    "# Создаем курсор - это специальный объект который делает запросы и получает их результаты\n",
    "with psycopg2.connect(conn_string) as conn, conn.cursor() as cursor:\n",
    "    query = \"\"\"\n",
    "    CREATE TABLE customer(\n",
    "           c_custkey integer NOT NULL   \n",
    "         , c_name varchar(100)     \n",
    "         , c_address  varchar(100) \n",
    "         , c_nationkey integer\n",
    "         , c_phone  varchar(100)   \n",
    "         , c_acctbal decimal  \n",
    "         , c_mktsegment varchar(100)\n",
    "         , c_comment varchar(2000)\n",
    "    )\"\"\" # запрос к БД\n",
    "    cursor.execute(query) # выполнение запроса\n",
    "\n",
    "    conn.commit() # комитим транзакцию\n",
    "    cursor.execute('select * from customer limit 1')\n",
    "    result = cursor.fetchall() # получение результата\n",
    "    print(result)"
   ]
  },
  {
   "cell_type": "code",
   "execution_count": 6,
   "metadata": {},
   "outputs": [
    {
     "name": "stdout",
     "output_type": "stream",
     "text": [
      "[]\n"
     ]
    }
   ],
   "source": [
    "import psycopg2\n",
    "\n",
    "# Параметры соединения\n",
    "conn_string= \"host='localhost' port=5433 dbname='my_database' user='root' password='postgres'\" \n",
    "\n",
    "# Создаем соединение (оно поддерживает контекстный менеджер, рекомендую пользоваться им)\n",
    "# Создаем курсор - это специальный объект который делает запросы и получает их результаты\n",
    "with psycopg2.connect(conn_string) as conn, conn.cursor() as cursor:\n",
    "    query = \"\"\"\n",
    "    ALTER TABLE customer ALTER COLUMN c_comment TYPE varchar(2000)\n",
    "    \"\"\" # запрос к БД\n",
    "    cursor.execute(query) # выполнение запроса\n",
    "\n",
    "    conn.commit() # комитим транзакцию\n",
    "    cursor.execute('select * from customer limit 1')\n",
    "    result = cursor.fetchall() # получение результата\n",
    "    print(result)"
   ]
  },
  {
   "cell_type": "code",
   "execution_count": 7,
   "metadata": {},
   "outputs": [],
   "source": [
    "import psycopg2\n",
    "\n",
    "conn_string= \"host='localhost' port=5433 dbname='my_database' user='root' password='postgres'\" \n",
    "with psycopg2.connect(conn_string) as conn, conn.cursor() as cursor:\n",
    "    q = \"COPY customer from STDIN WITH DELIMITER ',' CSV HEADER;\"\n",
    "    with open('resultsfile.csv', 'r') as f:\n",
    "        cursor.copy_expert(q, f)"
   ]
  },
  {
   "cell_type": "code",
   "execution_count": 8,
   "metadata": {},
   "outputs": [
    {
     "name": "stdout",
     "output_type": "stream",
     "text": [
      "[(150001,)]\n"
     ]
    }
   ],
   "source": [
    "import psycopg2\n",
    "\n",
    "conn_string= \"host='localhost' port=5433 dbname='my_database' user='root' password='postgres'\" \n",
    "with psycopg2.connect(conn_string) as conn, conn.cursor() as cursor:\n",
    "    cursor.execute('select count(*) from customer limit 10')\n",
    "    print(cursor.fetchall())"
   ]
  },
  {
   "cell_type": "code",
   "execution_count": 9,
   "metadata": {},
   "outputs": [
    {
     "name": "stdout",
     "output_type": "stream",
     "text": [
      "[(1, '000000001', 'IVhzIApeRb ot,c,E', 15, '25-989-741-2988', Decimal('44.4725'), 'BUILDING  ', 'to the even-- regular platelets. regular-- ironic epitaphs nag e'), (2, '000000002', 'XSTf4,NCwDVaWNe6tEgvwfmRchLXak', 13, '23-768-687-3665', Decimal('8.689285714285715'), 'AUTOMOBILE', 'l accounts. blithely ironic theodolites integrate boldly: caref')]\n"
     ]
    }
   ],
   "source": [
    "import psycopg2\n",
    "\n",
    "conn_string= \"host='localhost' port=5433 dbname='my_database' user='root' password='postgres'\" \n",
    "with psycopg2.connect(conn_string) as conn, conn.cursor() as cursor:\n",
    "    cursor.execute('select * from customer limit 2')\n",
    "    print(cursor.fetchall())"
   ]
  },
  {
   "cell_type": "markdown",
   "metadata": {},
   "source": [
    "# lineitem"
   ]
  },
  {
   "cell_type": "code",
   "execution_count": 10,
   "metadata": {},
   "outputs": [
    {
     "name": "stdout",
     "output_type": "stream",
     "text": [
      "[(1, 155190, 7706, 1, Decimal('17.00'), Decimal('21168.23'), Decimal('0.04'), Decimal('0.02'), 'N', 'O', datetime.date(1996, 3, 13), datetime.date(1996, 2, 12), datetime.date(1996, 3, 22), 'DELIVER IN PERSON        ', 'TRUCK     ', 'egular courts above the'), (1, 67310, 7311, 2, Decimal('36.00'), Decimal('45983.16'), Decimal('0.09'), Decimal('0.06'), 'N', 'O', datetime.date(1996, 4, 12), datetime.date(1996, 2, 28), datetime.date(1996, 4, 20), 'TAKE BACK RETURN         ', 'MAIL      ', 'ly final dependencies: slyly bold '), (1, 63700, 3701, 3, Decimal('8.00'), Decimal('13309.60'), Decimal('0.10'), Decimal('0.02'), 'N', 'O', datetime.date(1996, 1, 29), datetime.date(1996, 3, 5), datetime.date(1996, 1, 31), 'TAKE BACK RETURN         ', 'REG AIR   ', 'riously. regular, express dep'), (1, 2132, 4633, 4, Decimal('28.00'), Decimal('28955.64'), Decimal('0.09'), Decimal('0.06'), 'N', 'O', datetime.date(1996, 4, 21), datetime.date(1996, 3, 30), datetime.date(1996, 5, 16), 'NONE                     ', 'AIR       ', 'lites. fluffily even de'), (1, 24027, 1534, 5, Decimal('24.00'), Decimal('22824.48'), Decimal('0.10'), Decimal('0.04'), 'N', 'O', datetime.date(1996, 3, 30), datetime.date(1996, 3, 14), datetime.date(1996, 4, 1), 'NONE                     ', 'FOB       ', ' pending foxes. slyly re'), (1, 15635, 638, 6, Decimal('32.00'), Decimal('49620.16'), Decimal('0.07'), Decimal('0.02'), 'N', 'O', datetime.date(1996, 1, 30), datetime.date(1996, 2, 7), datetime.date(1996, 2, 3), 'DELIVER IN PERSON        ', 'MAIL      ', 'arefully slyly ex'), (2, 106170, 1191, 1, Decimal('38.00'), Decimal('44694.46'), Decimal('0.00'), Decimal('0.05'), 'N', 'O', datetime.date(1997, 1, 28), datetime.date(1997, 1, 14), datetime.date(1997, 2, 2), 'TAKE BACK RETURN         ', 'RAIL      ', 'ven requests. deposits breach a'), (3, 4297, 1798, 1, Decimal('45.00'), Decimal('54058.05'), Decimal('0.06'), Decimal('0.00'), 'R', 'F', datetime.date(1994, 2, 2), datetime.date(1994, 1, 4), datetime.date(1994, 2, 23), 'NONE                     ', 'AIR       ', 'ongside of the furiously brave acco'), (3, 19036, 6540, 2, Decimal('49.00'), Decimal('46796.47'), Decimal('0.10'), Decimal('0.00'), 'R', 'F', datetime.date(1993, 11, 9), datetime.date(1993, 12, 20), datetime.date(1993, 11, 24), 'TAKE BACK RETURN         ', 'RAIL      ', ' unusual accounts. eve'), (3, 128449, 3474, 3, Decimal('27.00'), Decimal('39890.88'), Decimal('0.06'), Decimal('0.07'), 'A', 'F', datetime.date(1994, 1, 16), datetime.date(1993, 11, 22), datetime.date(1994, 1, 23), 'DELIVER IN PERSON        ', 'SHIP      ', 'nal foxes wake. ')]\n"
     ]
    }
   ],
   "source": [
    "# Параметры соединения\n",
    "conn_string= \"host='localhost' port=54320 dbname='my_database' user='root' password='postgres'\" \n",
    "\n",
    "# Создаем соединение (оно поддерживает контекстный менеджер, рекомендую пользоваться им)\n",
    "# Создаем курсор - это специальный объект который делает запросы и получает их результаты\n",
    "with psycopg2.connect(conn_string) as conn, conn.cursor() as cursor:\n",
    "    query = 'select * from lineitem limit 10' # запрос к БД\n",
    "    cursor.execute(query) # выполнение запроса\n",
    "    result = cursor.fetchall() # получение результата\n",
    "    print(result)"
   ]
  },
  {
   "cell_type": "code",
   "execution_count": 13,
   "metadata": {},
   "outputs": [],
   "source": [
    "import psycopg2\n",
    "\n",
    "conn_string= \"host='localhost' port=54320 dbname='my_database' user='root' password='postgres'\" \n",
    "with psycopg2.connect(conn_string) as conn, conn.cursor() as cursor:\n",
    "    q = \"COPY lineitem TO STDOUT WITH DELIMITER ',' CSV HEADER;\"\n",
    "    with open('lineitem_resultsfile.csv', 'w') as f:\n",
    "        cursor.copy_expert(q, f)"
   ]
  },
  {
   "cell_type": "code",
   "execution_count": 15,
   "metadata": {},
   "outputs": [
    {
     "name": "stdout",
     "output_type": "stream",
     "text": [
      "[]\n"
     ]
    }
   ],
   "source": [
    "conn_string= \"host='localhost' port=5433 dbname='my_database' user='root' password='postgres'\" \n",
    "\n",
    "with psycopg2.connect(conn_string) as conn, conn.cursor() as cursor:\n",
    "    query = \"\"\"\n",
    "    CREATE TABLE lineitem(\n",
    "           l_orderkey integer NOT NULL   \n",
    "         , l_partkey integer NOT NULL    \n",
    "         , l_suppkey  integer NOT NULL\n",
    "         , l_linenumber integer\n",
    "         , l_quantity numeric(15, 2)  \n",
    "         , l_extendedprice numeric(15, 2)  \n",
    "         , l_discount numeric(15, 2)\n",
    "         , l_tax numeric(15, 2)\n",
    "         , l_returnflag bpchar(1)\n",
    "         , l_linestatus bpchar(1)\n",
    "         , l_shipdate date\n",
    "         , l_commitdate date\n",
    "         , l_receiptdate date\n",
    "         , l_shipinstruct bpchar(25)\n",
    "         , l_shipmode bpchar(10)\n",
    "         , l_comment varchar(44)\n",
    "    )\"\"\" \n",
    "    cursor.execute(query)\n",
    "\n",
    "    conn.commit() \n",
    "    cursor.execute('select * from lineitem limit 1')\n",
    "    result = cursor.fetchall() \n",
    "    print(result)"
   ]
  },
  {
   "cell_type": "code",
   "execution_count": 17,
   "metadata": {},
   "outputs": [],
   "source": [
    "conn_string= \"host='localhost' port=5433 dbname='my_database' user='root' password='postgres'\" \n",
    "with psycopg2.connect(conn_string) as conn, conn.cursor() as cursor:\n",
    "    q = \"COPY lineitem from STDIN WITH DELIMITER ',' CSV HEADER;\"\n",
    "    with open('lineitem_resultsfile.csv', 'r') as f:\n",
    "        cursor.copy_expert(q, f)"
   ]
  },
  {
   "cell_type": "code",
   "execution_count": 18,
   "metadata": {},
   "outputs": [
    {
     "name": "stdout",
     "output_type": "stream",
     "text": [
      "[(6001215,)]\n"
     ]
    }
   ],
   "source": [
    "import psycopg2\n",
    "\n",
    "conn_string= \"host='localhost' port=5433 dbname='my_database' user='root' password='postgres'\" \n",
    "with psycopg2.connect(conn_string) as conn, conn.cursor() as cursor:\n",
    "    cursor.execute('select count(*) from lineitem limit 10')\n",
    "    print(cursor.fetchall())"
   ]
  },
  {
   "cell_type": "code",
   "execution_count": 19,
   "metadata": {},
   "outputs": [
    {
     "name": "stdout",
     "output_type": "stream",
     "text": [
      "[(1, 155190, 7706, 1, Decimal('17.00'), Decimal('21168.23'), Decimal('0.04'), Decimal('0.02'), 'N', 'O', datetime.date(1996, 3, 13), datetime.date(1996, 2, 12), datetime.date(1996, 3, 22), 'DELIVER IN PERSON        ', 'TRUCK     ', 'egular courts above the'), (1, 67310, 7311, 2, Decimal('36.00'), Decimal('45983.16'), Decimal('0.09'), Decimal('0.06'), 'N', 'O', datetime.date(1996, 4, 12), datetime.date(1996, 2, 28), datetime.date(1996, 4, 20), 'TAKE BACK RETURN         ', 'MAIL      ', 'ly final dependencies: slyly bold ')]\n"
     ]
    }
   ],
   "source": [
    "import psycopg2\n",
    "\n",
    "conn_string= \"host='localhost' port=5433 dbname='my_database' user='root' password='postgres'\" \n",
    "with psycopg2.connect(conn_string) as conn, conn.cursor() as cursor:\n",
    "    cursor.execute('select * from lineitem limit 2')\n",
    "    print(cursor.fetchall())"
   ]
  },
  {
   "cell_type": "markdown",
   "metadata": {},
   "source": [
    "# nation"
   ]
  },
  {
   "cell_type": "code",
   "execution_count": 20,
   "metadata": {},
   "outputs": [
    {
     "name": "stdout",
     "output_type": "stream",
     "text": [
      "[(0, 'ALGERIA                  ', 0, ' haggle. carefully final deposits detect slyly agai'), (1, 'ARGENTINA                ', 1, 'al foxes promise slyly according to the regular accounts. bold requests alon'), (2, 'BRAZIL                   ', 1, 'y alongside of the pending deposits. carefully special packages are about the ironic forges. slyly special '), (3, 'CANADA                   ', 1, 'eas hang ironic, silent packages. slyly regular packages are furiously over the tithes. fluffily bold'), (4, 'EGYPT                    ', 4, 'y above the carefully unusual theodolites. final dugouts are quickly across the furiously regular d'), (5, 'ETHIOPIA                 ', 0, 'ven packages wake quickly. regu'), (6, 'FRANCE                   ', 3, 'refully final requests. regular, ironi'), (7, 'GERMANY                  ', 3, 'l platelets. regular accounts x-ray: unusual, regular acco'), (8, 'INDIA                    ', 2, 'ss excuses cajole slyly across the packages. deposits print aroun'), (9, 'INDONESIA                ', 2, ' slyly express asymptotes. regular deposits haggle slyly. carefully ironic hockey players sleep blithely. carefull')]\n"
     ]
    }
   ],
   "source": [
    "conn_string= \"host='localhost' port=54320 dbname='my_database' user='root' password='postgres'\" \n",
    "\n",
    "\n",
    "with psycopg2.connect(conn_string) as conn, conn.cursor() as cursor:\n",
    "    query = 'select * from nation limit 10' \n",
    "    cursor.execute(query) \n",
    "    result = cursor.fetchall() \n",
    "    print(result)"
   ]
  },
  {
   "cell_type": "code",
   "execution_count": 21,
   "metadata": {},
   "outputs": [],
   "source": [
    "conn_string= \"host='localhost' port=54320 dbname='my_database' user='root' password='postgres'\" \n",
    "with psycopg2.connect(conn_string) as conn, conn.cursor() as cursor:\n",
    "    q = \"COPY nation TO STDOUT WITH DELIMITER ',' CSV HEADER;\"\n",
    "    with open('nation_resultsfile.csv', 'w') as f:\n",
    "        cursor.copy_expert(q, f)"
   ]
  },
  {
   "cell_type": "code",
   "execution_count": 22,
   "metadata": {},
   "outputs": [
    {
     "name": "stdout",
     "output_type": "stream",
     "text": [
      "[]\n"
     ]
    }
   ],
   "source": [
    "conn_string= \"host='localhost' port=5433 dbname='my_database' user='root' password='postgres'\" \n",
    "\n",
    "with psycopg2.connect(conn_string) as conn, conn.cursor() as cursor:\n",
    "    query = \"\"\"\n",
    "    CREATE TABLE nation(\n",
    "           n_nationkey int4,\n",
    "           n_name bpchar(25), \n",
    "           n_regionkey int4,\n",
    "           n_comment varchar(152)\n",
    "    )\"\"\" \n",
    "    cursor.execute(query)\n",
    "\n",
    "    conn.commit() \n",
    "    cursor.execute('select * from nation limit 1')\n",
    "    result = cursor.fetchall() \n",
    "    print(result)"
   ]
  },
  {
   "cell_type": "code",
   "execution_count": 23,
   "metadata": {},
   "outputs": [],
   "source": [
    "conn_string= \"host='localhost' port=5433 dbname='my_database' user='root' password='postgres'\" \n",
    "with psycopg2.connect(conn_string) as conn, conn.cursor() as cursor:\n",
    "    q = \"COPY nation from STDIN WITH DELIMITER ',' CSV HEADER;\"\n",
    "    with open('nation_resultsfile.csv', 'r') as f:\n",
    "        cursor.copy_expert(q, f)"
   ]
  },
  {
   "cell_type": "code",
   "execution_count": 24,
   "metadata": {},
   "outputs": [
    {
     "name": "stdout",
     "output_type": "stream",
     "text": [
      "[(25,)]\n"
     ]
    }
   ],
   "source": [
    "conn_string= \"host='localhost' port=5433 dbname='my_database' user='root' password='postgres'\" \n",
    "with psycopg2.connect(conn_string) as conn, conn.cursor() as cursor:\n",
    "    cursor.execute('select count(*) from nation limit 10')\n",
    "    print(cursor.fetchall())"
   ]
  },
  {
   "cell_type": "code",
   "execution_count": 25,
   "metadata": {},
   "outputs": [
    {
     "name": "stdout",
     "output_type": "stream",
     "text": [
      "[(0, 'ALGERIA                  ', 0, ' haggle. carefully final deposits detect slyly agai'), (1, 'ARGENTINA                ', 1, 'al foxes promise slyly according to the regular accounts. bold requests alon')]\n"
     ]
    }
   ],
   "source": [
    "conn_string= \"host='localhost' port=5433 dbname='my_database' user='root' password='postgres'\" \n",
    "with psycopg2.connect(conn_string) as conn, conn.cursor() as cursor:\n",
    "    cursor.execute('select * from nation limit 2')\n",
    "    print(cursor.fetchall())"
   ]
  },
  {
   "cell_type": "markdown",
   "metadata": {},
   "source": [
    "# orders"
   ]
  },
  {
   "cell_type": "code",
   "execution_count": 26,
   "metadata": {},
   "outputs": [
    {
     "name": "stdout",
     "output_type": "stream",
     "text": [
      "[(1, 36901, 'O', Decimal('173665.47'), datetime.date(1996, 1, 2), '5-LOW          ', 'Clerk#000000951', 0, 'nstructions sleep furiously among '), (2, 78002, 'O', Decimal('46929.18'), datetime.date(1996, 12, 1), '1-URGENT       ', 'Clerk#000000880', 0, ' foxes. pending accounts at the pending, silent asymptot'), (3, 123314, 'F', Decimal('193846.25'), datetime.date(1993, 10, 14), '5-LOW          ', 'Clerk#000000955', 0, 'sly final accounts boost. carefully regular ideas cajole carefully. depos'), (4, 136777, 'O', Decimal('32151.78'), datetime.date(1995, 10, 11), '5-LOW          ', 'Clerk#000000124', 0, 'sits. slyly regular warthogs cajole. regular, regular theodolites acro'), (5, 44485, 'F', Decimal('144659.20'), datetime.date(1994, 7, 30), '5-LOW          ', 'Clerk#000000925', 0, 'quickly. bold deposits sleep slyly. packages use slyly'), (6, 55624, 'F', Decimal('58749.59'), datetime.date(1992, 2, 21), '4-NOT SPECIFIED', 'Clerk#000000058', 0, 'ggle. special, final requests are against the furiously specia'), (7, 39136, 'O', Decimal('252004.18'), datetime.date(1996, 1, 10), '2-HIGH         ', 'Clerk#000000470', 0, 'ly special requests '), (32, 130057, 'O', Decimal('208660.75'), datetime.date(1995, 7, 16), '2-HIGH         ', 'Clerk#000000616', 0, 'ise blithely bold, regular requests. quickly unusual dep'), (33, 66958, 'F', Decimal('163243.98'), datetime.date(1993, 10, 27), '3-MEDIUM       ', 'Clerk#000000409', 0, 'uriously. furiously final request'), (34, 61001, 'O', Decimal('58949.67'), datetime.date(1998, 7, 21), '3-MEDIUM       ', 'Clerk#000000223', 0, 'ly final packages. fluffily final deposits wake blithely ideas. spe')]\n"
     ]
    }
   ],
   "source": [
    "conn_string= \"host='localhost' port=54320 dbname='my_database' user='root' password='postgres'\" \n",
    "\n",
    "\n",
    "with psycopg2.connect(conn_string) as conn, conn.cursor() as cursor:\n",
    "    query = 'select * from orders limit 10' \n",
    "    cursor.execute(query) \n",
    "    result = cursor.fetchall() \n",
    "    print(result)"
   ]
  },
  {
   "cell_type": "code",
   "execution_count": 27,
   "metadata": {},
   "outputs": [],
   "source": [
    "conn_string= \"host='localhost' port=54320 dbname='my_database' user='root' password='postgres'\" \n",
    "with psycopg2.connect(conn_string) as conn, conn.cursor() as cursor:\n",
    "    q = \"COPY orders TO STDOUT WITH DELIMITER ',' CSV HEADER;\"\n",
    "    with open('orders_resultsfile.csv', 'w') as f:\n",
    "        cursor.copy_expert(q, f)"
   ]
  },
  {
   "cell_type": "code",
   "execution_count": 28,
   "metadata": {},
   "outputs": [
    {
     "name": "stdout",
     "output_type": "stream",
     "text": [
      "[]\n"
     ]
    }
   ],
   "source": [
    "conn_string= \"host='localhost' port=5433 dbname='my_database' user='root' password='postgres'\" \n",
    "\n",
    "with psycopg2.connect(conn_string) as conn, conn.cursor() as cursor:\n",
    "    query = \"\"\"\n",
    "    CREATE TABLE orders(\n",
    "           o_orderkey int4,\n",
    "           o_custkey int4,\n",
    "           o_orderstatus bpchar(1),\n",
    "           o_totalprice numeric(15,2),\n",
    "           o_orderdate date,\n",
    "           o_orderpriority bpchar(15),\n",
    "           o_clerk bpchar(15),\n",
    "           o_shippriority int4,\n",
    "           o_comment varchar(79)\n",
    "    )\"\"\" \n",
    "    cursor.execute(query)\n",
    "\n",
    "    conn.commit() \n",
    "    cursor.execute('select * from orders limit 1')\n",
    "    result = cursor.fetchall() \n",
    "    print(result)"
   ]
  },
  {
   "cell_type": "code",
   "execution_count": 29,
   "metadata": {},
   "outputs": [],
   "source": [
    "conn_string= \"host='localhost' port=5433 dbname='my_database' user='root' password='postgres'\" \n",
    "with psycopg2.connect(conn_string) as conn, conn.cursor() as cursor:\n",
    "    q = \"COPY orders from STDIN WITH DELIMITER ',' CSV HEADER;\"\n",
    "    with open('orders_resultsfile.csv', 'r') as f:\n",
    "        cursor.copy_expert(q, f)"
   ]
  },
  {
   "cell_type": "code",
   "execution_count": 30,
   "metadata": {},
   "outputs": [
    {
     "name": "stdout",
     "output_type": "stream",
     "text": [
      "[(1500000,)]\n"
     ]
    }
   ],
   "source": [
    "conn_string= \"host='localhost' port=5433 dbname='my_database' user='root' password='postgres'\" \n",
    "with psycopg2.connect(conn_string) as conn, conn.cursor() as cursor:\n",
    "    cursor.execute('select count(*) from orders limit 10')\n",
    "    print(cursor.fetchall())"
   ]
  },
  {
   "cell_type": "code",
   "execution_count": 31,
   "metadata": {},
   "outputs": [
    {
     "name": "stdout",
     "output_type": "stream",
     "text": [
      "[(1, 36901, 'O', Decimal('173665.47'), datetime.date(1996, 1, 2), '5-LOW          ', 'Clerk#000000951', 0, 'nstructions sleep furiously among '), (2, 78002, 'O', Decimal('46929.18'), datetime.date(1996, 12, 1), '1-URGENT       ', 'Clerk#000000880', 0, ' foxes. pending accounts at the pending, silent asymptot')]\n"
     ]
    }
   ],
   "source": [
    "conn_string= \"host='localhost' port=5433 dbname='my_database' user='root' password='postgres'\" \n",
    "with psycopg2.connect(conn_string) as conn, conn.cursor() as cursor:\n",
    "    cursor.execute('select * from orders limit 2')\n",
    "    print(cursor.fetchall())"
   ]
  },
  {
   "cell_type": "markdown",
   "metadata": {},
   "source": [
    "# part"
   ]
  },
  {
   "cell_type": "code",
   "execution_count": 32,
   "metadata": {},
   "outputs": [
    {
     "name": "stdout",
     "output_type": "stream",
     "text": [
      "[(1, 'goldenrod lavender spring chocolate lace', 'Manufacturer#1           ', 'Brand#13  ', 'PROMO BURNISHED COPPER', 7, 'JUMBO PKG ', Decimal('901.00'), 'ly. slyly ironi'), (2, 'blush thistle blue yellow saddle', 'Manufacturer#1           ', 'Brand#13  ', 'LARGE BRUSHED BRASS', 1, 'LG CASE   ', Decimal('902.00'), 'lar accounts amo'), (3, 'spring green yellow purple cornsilk', 'Manufacturer#4           ', 'Brand#42  ', 'STANDARD POLISHED BRASS', 21, 'WRAP CASE ', Decimal('903.00'), 'egular deposits hag'), (4, 'cornflower chocolate smoke green pink', 'Manufacturer#3           ', 'Brand#34  ', 'SMALL PLATED BRASS', 14, 'MED DRUM  ', Decimal('904.00'), 'p furiously r'), (5, 'forest brown coral puff cream', 'Manufacturer#3           ', 'Brand#32  ', 'STANDARD POLISHED TIN', 15, 'SM PKG    ', Decimal('905.00'), ' wake carefully '), (6, 'bisque cornflower lawn forest magenta', 'Manufacturer#2           ', 'Brand#24  ', 'PROMO PLATED STEEL', 4, 'MED BAG   ', Decimal('906.00'), 'sual a'), (7, 'moccasin green thistle khaki floral', 'Manufacturer#1           ', 'Brand#11  ', 'SMALL PLATED COPPER', 45, 'SM BAG    ', Decimal('907.00'), 'lyly. ex'), (8, 'misty lace thistle snow royal', 'Manufacturer#4           ', 'Brand#44  ', 'PROMO BURNISHED TIN', 41, 'LG DRUM   ', Decimal('908.00'), 'eposi'), (9, 'thistle dim navajo dark gainsboro', 'Manufacturer#4           ', 'Brand#43  ', 'SMALL BURNISHED STEEL', 12, 'WRAP CASE ', Decimal('909.00'), 'ironic foxe'), (10, 'linen pink saddle puff powder', 'Manufacturer#5           ', 'Brand#54  ', 'LARGE BURNISHED STEEL', 44, 'LG CAN    ', Decimal('910.01'), 'ithely final deposit')]\n"
     ]
    }
   ],
   "source": [
    "conn_string= \"host='localhost' port=54320 dbname='my_database' user='root' password='postgres'\" \n",
    "\n",
    "\n",
    "with psycopg2.connect(conn_string) as conn, conn.cursor() as cursor:\n",
    "    query = 'select * from part limit 10' \n",
    "    cursor.execute(query) \n",
    "    result = cursor.fetchall() \n",
    "    print(result)"
   ]
  },
  {
   "cell_type": "code",
   "execution_count": 33,
   "metadata": {},
   "outputs": [],
   "source": [
    "conn_string= \"host='localhost' port=54320 dbname='my_database' user='root' password='postgres'\" \n",
    "with psycopg2.connect(conn_string) as conn, conn.cursor() as cursor:\n",
    "    q = \"COPY part TO STDOUT WITH DELIMITER ',' CSV HEADER;\"\n",
    "    with open('part_resultsfile.csv', 'w') as f:\n",
    "        cursor.copy_expert(q, f)"
   ]
  },
  {
   "cell_type": "code",
   "execution_count": 34,
   "metadata": {},
   "outputs": [
    {
     "name": "stdout",
     "output_type": "stream",
     "text": [
      "[]\n"
     ]
    }
   ],
   "source": [
    "conn_string= \"host='localhost' port=5433 dbname='my_database' user='root' password='postgres'\" \n",
    "\n",
    "with psycopg2.connect(conn_string) as conn, conn.cursor() as cursor:\n",
    "    query = \"\"\"\n",
    "    CREATE TABLE part(\n",
    "           p_partkey int4,\n",
    "           p_name varchar(55),\n",
    "           p_mfgr bpchar(25),\n",
    "           p_brand bpchar(10),\n",
    "           p_type varchar(25),\n",
    "           p_size int4,\n",
    "           p_container bpchar(10),\n",
    "           p_retailprice numeric(15,2),\n",
    "           p_comment varchar(23)\n",
    "    )\"\"\" \n",
    "    cursor.execute(query)\n",
    "\n",
    "    conn.commit() \n",
    "    cursor.execute('select * from part limit 1')\n",
    "    result = cursor.fetchall() \n",
    "    print(result)"
   ]
  },
  {
   "cell_type": "code",
   "execution_count": 35,
   "metadata": {},
   "outputs": [],
   "source": [
    "conn_string= \"host='localhost' port=5433 dbname='my_database' user='root' password='postgres'\" \n",
    "with psycopg2.connect(conn_string) as conn, conn.cursor() as cursor:\n",
    "    q = \"COPY part from STDIN WITH DELIMITER ',' CSV HEADER;\"\n",
    "    with open('part_resultsfile.csv', 'r') as f:\n",
    "        cursor.copy_expert(q, f)"
   ]
  },
  {
   "cell_type": "code",
   "execution_count": 36,
   "metadata": {},
   "outputs": [
    {
     "name": "stdout",
     "output_type": "stream",
     "text": [
      "[(400000,)]\n"
     ]
    }
   ],
   "source": [
    "conn_string= \"host='localhost' port=5433 dbname='my_database' user='root' password='postgres'\" \n",
    "with psycopg2.connect(conn_string) as conn, conn.cursor() as cursor:\n",
    "    cursor.execute('select count(*) from part limit 10')\n",
    "    print(cursor.fetchall())"
   ]
  },
  {
   "cell_type": "code",
   "execution_count": 37,
   "metadata": {},
   "outputs": [
    {
     "name": "stdout",
     "output_type": "stream",
     "text": [
      "[(1, 'goldenrod lavender spring chocolate lace', 'Manufacturer#1           ', 'Brand#13  ', 'PROMO BURNISHED COPPER', 7, 'JUMBO PKG ', Decimal('901.00'), 'ly. slyly ironi'), (2, 'blush thistle blue yellow saddle', 'Manufacturer#1           ', 'Brand#13  ', 'LARGE BRUSHED BRASS', 1, 'LG CASE   ', Decimal('902.00'), 'lar accounts amo')]\n"
     ]
    }
   ],
   "source": [
    "conn_string= \"host='localhost' port=5433 dbname='my_database' user='root' password='postgres'\" \n",
    "with psycopg2.connect(conn_string) as conn, conn.cursor() as cursor:\n",
    "    cursor.execute('select * from part limit 2')\n",
    "    print(cursor.fetchall())"
   ]
  },
  {
   "cell_type": "markdown",
   "metadata": {},
   "source": [
    "# partsupp"
   ]
  },
  {
   "cell_type": "code",
   "execution_count": 38,
   "metadata": {},
   "outputs": [
    {
     "name": "stdout",
     "output_type": "stream",
     "text": [
      "[(1, 2, 3325, Decimal('771.64'), ', even theodolites. regular, final theodolites eat after the carefully pending foxes. furiously regular deposits sleep slyly. carefully bold realms above the ironic dependencies haggle careful'), (1, 2502, 8076, Decimal('993.49'), 'ven ideas. quickly even packages print. pending multipliers must have to are fluff'), (1, 5002, 3956, Decimal('337.09'), 'after the fluffily ironic deposits? blithely special dependencies integrate furiously even excuses. blithely silent theodolites could have to haggle pending, express requests; fu'), (1, 7502, 4069, Decimal('357.84'), 'al, regular dependencies serve carefully after the quickly final pinto beans. furiously even deposits sleep quickly final, silent pinto beans. fluffily reg'), (2, 3, 8895, Decimal('378.49'), 'nic accounts. final accounts sleep furiously about the ironic, bold packages. regular, regular accounts'), (2, 2503, 4969, Decimal('915.27'), 'ptotes. quickly pending dependencies integrate furiously. fluffily ironic ideas impress blithely above the express accounts. furiously even epitaphs need to wak'), (2, 5003, 8539, Decimal('438.37'), 'blithely bold ideas. furiously stealthy packages sleep fluffily. slyly special deposits snooze furiously carefully regular accounts. regular deposits according to the accounts nag carefully slyl'), (2, 7503, 3025, Decimal('306.39'), 'olites. deposits wake carefully. even, express requests cajole. carefully regular ex'), (3, 4, 4651, Decimal('920.92'), 'ilent foxes affix furiously quickly unusual requests. even packages across the carefully even theodolites nag above the sp'), (3, 2504, 4093, Decimal('498.13'), 'ending dependencies haggle fluffily. regular deposits boost quickly carefully regular requests. deposits affix furiously around the pinto beans. ironic, unusual platelets across the p')]\n"
     ]
    }
   ],
   "source": [
    "conn_string= \"host='localhost' port=54320 dbname='my_database' user='root' password='postgres'\" \n",
    "\n",
    "\n",
    "with psycopg2.connect(conn_string) as conn, conn.cursor() as cursor:\n",
    "    query = 'select * from partsupp limit 10' \n",
    "    cursor.execute(query) \n",
    "    result = cursor.fetchall() \n",
    "    print(result)"
   ]
  },
  {
   "cell_type": "code",
   "execution_count": 39,
   "metadata": {},
   "outputs": [],
   "source": [
    "conn_string= \"host='localhost' port=54320 dbname='my_database' user='root' password='postgres'\" \n",
    "with psycopg2.connect(conn_string) as conn, conn.cursor() as cursor:\n",
    "    q = \"COPY partsupp TO STDOUT WITH DELIMITER ',' CSV HEADER;\"\n",
    "    with open('partsupp_resultsfile.csv', 'w') as f:\n",
    "        cursor.copy_expert(q, f)"
   ]
  },
  {
   "cell_type": "code",
   "execution_count": 40,
   "metadata": {},
   "outputs": [
    {
     "name": "stdout",
     "output_type": "stream",
     "text": [
      "[]\n"
     ]
    }
   ],
   "source": [
    "conn_string= \"host='localhost' port=5433 dbname='my_database' user='root' password='postgres'\" \n",
    "\n",
    "with psycopg2.connect(conn_string) as conn, conn.cursor() as cursor:\n",
    "    query = \"\"\"\n",
    "    CREATE TABLE partsupp(\n",
    "           ps_partkey int4,\n",
    "           ps_suppkey int4,\n",
    "           ps_availqty int4,\n",
    "           ps_supplycost numeric(15,2),\n",
    "           ps_comment varchar(199)\n",
    "    )\"\"\" \n",
    "    cursor.execute(query)\n",
    "\n",
    "    conn.commit() \n",
    "    cursor.execute('select * from partsupp limit 1')\n",
    "    result = cursor.fetchall() \n",
    "    print(result)"
   ]
  },
  {
   "cell_type": "code",
   "execution_count": 41,
   "metadata": {},
   "outputs": [],
   "source": [
    "conn_string= \"host='localhost' port=5433 dbname='my_database' user='root' password='postgres'\" \n",
    "with psycopg2.connect(conn_string) as conn, conn.cursor() as cursor:\n",
    "    q = \"COPY partsupp from STDIN WITH DELIMITER ',' CSV HEADER;\"\n",
    "    with open('partsupp_resultsfile.csv', 'r') as f:\n",
    "        cursor.copy_expert(q, f)"
   ]
  },
  {
   "cell_type": "code",
   "execution_count": 42,
   "metadata": {},
   "outputs": [
    {
     "name": "stdout",
     "output_type": "stream",
     "text": [
      "[(800000,)]\n"
     ]
    }
   ],
   "source": [
    "conn_string= \"host='localhost' port=5433 dbname='my_database' user='root' password='postgres'\" \n",
    "with psycopg2.connect(conn_string) as conn, conn.cursor() as cursor:\n",
    "    cursor.execute('select count(*) from partsupp limit 10')\n",
    "    print(cursor.fetchall())"
   ]
  },
  {
   "cell_type": "code",
   "execution_count": 43,
   "metadata": {},
   "outputs": [
    {
     "name": "stdout",
     "output_type": "stream",
     "text": [
      "[(1, 2, 3325, Decimal('771.64'), ', even theodolites. regular, final theodolites eat after the carefully pending foxes. furiously regular deposits sleep slyly. carefully bold realms above the ironic dependencies haggle careful'), (1, 2502, 8076, Decimal('993.49'), 'ven ideas. quickly even packages print. pending multipliers must have to are fluff')]\n"
     ]
    }
   ],
   "source": [
    "conn_string= \"host='localhost' port=5433 dbname='my_database' user='root' password='postgres'\" \n",
    "with psycopg2.connect(conn_string) as conn, conn.cursor() as cursor:\n",
    "    cursor.execute('select * from partsupp limit 2')\n",
    "    print(cursor.fetchall())"
   ]
  },
  {
   "cell_type": "markdown",
   "metadata": {},
   "source": [
    "# region"
   ]
  },
  {
   "cell_type": "code",
   "execution_count": 44,
   "metadata": {},
   "outputs": [
    {
     "name": "stdout",
     "output_type": "stream",
     "text": [
      "[(0, 'AFRICA                   ', 'lar deposits. blithely final packages cajole. regular waters are final requests. regular accounts are according to '), (1, 'AMERICA                  ', 'hs use ironic, even requests. s'), (2, 'ASIA                     ', 'ges. thinly even pinto beans ca'), (3, 'EUROPE                   ', 'ly final courts cajole furiously final excuse'), (4, 'MIDDLE EAST              ', 'uickly special accounts cajole carefully blithely close requests. carefully final asymptotes haggle furiousl')]\n"
     ]
    }
   ],
   "source": [
    "conn_string= \"host='localhost' port=54320 dbname='my_database' user='root' password='postgres'\" \n",
    "\n",
    "\n",
    "with psycopg2.connect(conn_string) as conn, conn.cursor() as cursor:\n",
    "    query = 'select * from region limit 10' \n",
    "    cursor.execute(query) \n",
    "    result = cursor.fetchall() \n",
    "    print(result)"
   ]
  },
  {
   "cell_type": "code",
   "execution_count": 48,
   "metadata": {},
   "outputs": [],
   "source": [
    "conn_string= \"host='localhost' port=54320 dbname='my_database' user='root' password='postgres'\" \n",
    "with psycopg2.connect(conn_string) as conn, conn.cursor() as cursor:\n",
    "    q = \"COPY region TO STDOUT WITH DELIMITER ',' CSV HEADER;\"\n",
    "    with open('region_resultsfile.csv', 'w') as f:\n",
    "        cursor.copy_expert(q, f)"
   ]
  },
  {
   "cell_type": "code",
   "execution_count": 46,
   "metadata": {},
   "outputs": [
    {
     "name": "stdout",
     "output_type": "stream",
     "text": [
      "[]\n"
     ]
    }
   ],
   "source": [
    "conn_string= \"host='localhost' port=5433 dbname='my_database' user='root' password='postgres'\" \n",
    "\n",
    "with psycopg2.connect(conn_string) as conn, conn.cursor() as cursor:\n",
    "    query = \"\"\"\n",
    "    CREATE TABLE region(\n",
    "           r_regionkey int4,\n",
    "           r_name bpchar(25),\n",
    "           r_comment varchar(125)\n",
    "    )\"\"\" \n",
    "    cursor.execute(query)\n",
    "\n",
    "    conn.commit() \n",
    "    cursor.execute('select * from region limit 1')\n",
    "    result = cursor.fetchall() \n",
    "    print(result)"
   ]
  },
  {
   "cell_type": "code",
   "execution_count": 49,
   "metadata": {},
   "outputs": [],
   "source": [
    "conn_string= \"host='localhost' port=5433 dbname='my_database' user='root' password='postgres'\" \n",
    "with psycopg2.connect(conn_string) as conn, conn.cursor() as cursor:\n",
    "    q = \"COPY region from STDIN WITH DELIMITER ',' CSV HEADER;\"\n",
    "    with open('region_resultsfile.csv', 'r') as f:\n",
    "        cursor.copy_expert(q, f)"
   ]
  },
  {
   "cell_type": "code",
   "execution_count": 50,
   "metadata": {},
   "outputs": [
    {
     "name": "stdout",
     "output_type": "stream",
     "text": [
      "[(5,)]\n"
     ]
    }
   ],
   "source": [
    "conn_string= \"host='localhost' port=5433 dbname='my_database' user='root' password='postgres'\" \n",
    "with psycopg2.connect(conn_string) as conn, conn.cursor() as cursor:\n",
    "    cursor.execute('select count(*) from region limit 10')\n",
    "    print(cursor.fetchall())"
   ]
  },
  {
   "cell_type": "code",
   "execution_count": 51,
   "metadata": {},
   "outputs": [
    {
     "name": "stdout",
     "output_type": "stream",
     "text": [
      "[(0, 'AFRICA                   ', 'lar deposits. blithely final packages cajole. regular waters are final requests. regular accounts are according to '), (1, 'AMERICA                  ', 'hs use ironic, even requests. s')]\n"
     ]
    }
   ],
   "source": [
    "conn_string= \"host='localhost' port=5433 dbname='my_database' user='root' password='postgres'\" \n",
    "with psycopg2.connect(conn_string) as conn, conn.cursor() as cursor:\n",
    "    cursor.execute('select * from region limit 2')\n",
    "    print(cursor.fetchall())"
   ]
  },
  {
   "cell_type": "markdown",
   "metadata": {},
   "source": [
    "# supplier"
   ]
  },
  {
   "cell_type": "code",
   "execution_count": 52,
   "metadata": {},
   "outputs": [
    {
     "name": "stdout",
     "output_type": "stream",
     "text": [
      "[]\n"
     ]
    }
   ],
   "source": [
    "conn_string= \"host='localhost' port=54320 dbname='my_database' user='root' password='postgres'\" \n",
    "\n",
    "\n",
    "with psycopg2.connect(conn_string) as conn, conn.cursor() as cursor:\n",
    "    query = 'select * from supplier limit 10' \n",
    "    cursor.execute(query) \n",
    "    result = cursor.fetchall() \n",
    "    print(result)"
   ]
  },
  {
   "cell_type": "code",
   "execution_count": 58,
   "metadata": {},
   "outputs": [],
   "source": [
    "conn_string= \"host='localhost' port=54320 dbname='my_database' user='root' password='postgres'\" \n",
    "with psycopg2.connect(conn_string) as conn, conn.cursor() as cursor:\n",
    "    q = \"COPY supplier TO STDOUT WITH DELIMITER ',' CSV HEADER;\"\n",
    "    with open('supplier_resultsfile.csv', 'w') as f:\n",
    "        cursor.copy_expert(q, f)"
   ]
  },
  {
   "cell_type": "code",
   "execution_count": 55,
   "metadata": {},
   "outputs": [
    {
     "name": "stdout",
     "output_type": "stream",
     "text": [
      "[]\n"
     ]
    }
   ],
   "source": [
    "conn_string= \"host='localhost' port=5433 dbname='my_database' user='root' password='postgres'\" \n",
    "\n",
    "with psycopg2.connect(conn_string) as conn, conn.cursor() as cursor:\n",
    "    query = \"\"\"\n",
    "    CREATE TABLE supplier(\n",
    "           s_suppkey int4,\n",
    "           s_name bpchar(25),\n",
    "           s_address varchar(40),\n",
    "           s_nationkey int4,\n",
    "           s_phone bpchar(15),\n",
    "           s_acctbal numeric(15,2),\n",
    "           s_comment varchar(101)\n",
    "    )\"\"\" \n",
    "    cursor.execute(query)\n",
    "\n",
    "    conn.commit() \n",
    "    cursor.execute('select * from supplier limit 1')\n",
    "    result = cursor.fetchall() \n",
    "    print(result)"
   ]
  },
  {
   "cell_type": "code",
   "execution_count": 59,
   "metadata": {},
   "outputs": [],
   "source": [
    "conn_string= \"host='localhost' port=5433 dbname='my_database' user='root' password='postgres'\" \n",
    "with psycopg2.connect(conn_string) as conn, conn.cursor() as cursor:\n",
    "    q = \"COPY supplier from STDIN WITH DELIMITER ',' CSV HEADER;\"\n",
    "    with open('supplier_resultsfile.csv', 'r') as f:\n",
    "        cursor.copy_expert(q, f)"
   ]
  },
  {
   "cell_type": "code",
   "execution_count": 60,
   "metadata": {},
   "outputs": [
    {
     "name": "stdout",
     "output_type": "stream",
     "text": [
      "[(10000,)]\n"
     ]
    }
   ],
   "source": [
    "conn_string= \"host='localhost' port=5433 dbname='my_database' user='root' password='postgres'\" \n",
    "with psycopg2.connect(conn_string) as conn, conn.cursor() as cursor:\n",
    "    cursor.execute('select count(*) from supplier limit 10')\n",
    "    print(cursor.fetchall())"
   ]
  },
  {
   "cell_type": "code",
   "execution_count": 61,
   "metadata": {},
   "outputs": [
    {
     "name": "stdout",
     "output_type": "stream",
     "text": [
      "[(1, 'Supplier#000000001       ', ' N kD4on9OM Ipw3,gf0JBoQDd7tgrzrddZ', 17, '27-918-335-1736', Decimal('5755.94'), 'each slyly above the careful'), (2, 'Supplier#000000002       ', '89eJ5ksX3ImxJQBvxObC,', 5, '15-679-861-2259', Decimal('4032.68'), ' slyly bold instructions. idle dependen')]\n"
     ]
    }
   ],
   "source": [
    "conn_string= \"host='localhost' port=5433 dbname='my_database' user='root' password='postgres'\" \n",
    "with psycopg2.connect(conn_string) as conn, conn.cursor() as cursor:\n",
    "    cursor.execute('select * from supplier limit 2')\n",
    "    print(cursor.fetchall())"
   ]
  },
  {
   "cell_type": "code",
   "execution_count": null,
   "metadata": {},
   "outputs": [],
   "source": []
  }
 ],
 "metadata": {
  "kernelspec": {
   "display_name": "Python 3",
   "language": "python",
   "name": "python3"
  },
  "language_info": {
   "codemirror_mode": {
    "name": "ipython",
    "version": 3
   },
   "file_extension": ".py",
   "mimetype": "text/x-python",
   "name": "python",
   "nbconvert_exporter": "python",
   "pygments_lexer": "ipython3",
   "version": "3.7.6"
  }
 },
 "nbformat": 4,
 "nbformat_minor": 4
}
